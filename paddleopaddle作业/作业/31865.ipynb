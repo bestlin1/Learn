{
 "cells": [
  {
   "cell_type": "code",
   "execution_count": 4,
   "metadata": {},
   "outputs": [
    {
     "name": "stdout",
     "output_type": "stream",
     "text": [
      "Archive:  /home/aistudio/data/data760/房价预测fluid.zip\n",
      "  inflating: /home/aistudio/房价预测fluid/fluid_LinearRegression_complete.ipynb  \n",
      "  inflating: /home/aistudio/房价预测fluid/fluid_LinearRegression_homework.ipynb  \n",
      "  inflating: /home/aistudio/房价预测fluid/result1.png  \n",
      "  inflating: /home/aistudio/房价预测fluid/easy_fit_a_line.inference.model/mean_3.tmp_0@GRAD  \n",
      "  inflating: /home/aistudio/房价预测fluid/easy_fit_a_line.inference.model/fc_2.w_0  \n",
      "  inflating: /home/aistudio/房价预测fluid/easy_fit_a_line.inference.model/fc_1.b_0  \n",
      "  inflating: /home/aistudio/房价预测fluid/easy_fit_a_line.inference.model/mean_2.tmp_0@GRAD  \n",
      "  inflating: /home/aistudio/房价预测fluid/easy_fit_a_line.inference.model/mean_0.tmp_0@GRAD  \n",
      "  inflating: /home/aistudio/房价预测fluid/easy_fit_a_line.inference.model/fc_3.b_0  \n",
      "  inflating: /home/aistudio/房价预测fluid/easy_fit_a_line.inference.model/fc_1.w_0  \n",
      "  inflating: /home/aistudio/房价预测fluid/easy_fit_a_line.inference.model/fc_0.b_0  \n",
      "  inflating: /home/aistudio/房价预测fluid/easy_fit_a_line.inference.model/learning_rate_0  \n",
      "  inflating: /home/aistudio/房价预测fluid/easy_fit_a_line.inference.model/fc_0.w_0  \n",
      "  inflating: /home/aistudio/房价预测fluid/easy_fit_a_line.inference.model/fc_2.b_0  \n",
      "  inflating: /home/aistudio/房价预测fluid/easy_fit_a_line.inference.model/learning_rate_1  \n",
      "  inflating: /home/aistudio/房价预测fluid/easy_fit_a_line.inference.model/fc_3.w_0  \n",
      "  inflating: /home/aistudio/房价预测fluid/easy_fit_a_line.inference.model/mean_1.tmp_0@GRAD  \n",
      "  inflating: /home/aistudio/房价预测fluid/.ipynb_checkpoints/fluid_LinearRegression_homework-checkpoint.ipynb  \n",
      "  inflating: /home/aistudio/房价预测fluid/.ipynb_checkpoints/fluid_LinearRegression_complete-checkpoint.ipynb  \n",
      "  inflating: /home/aistudio/房价预测fluid/datasets/data.txt  \n",
      "  inflating: /home/aistudio/房价预测fluid/images/plt.png  \n",
      "  inflating: /home/aistudio/房价预测fluid/images/result.png  \n",
      "  inflating: /home/aistudio/房价预测fluid/images/FC.png  \n",
      "  inflating: /home/aistudio/房价预测fluid/images/ML_process.png  \n",
      "  inflating: /home/aistudio/房价预测fluid/images/gradient_descent.png  \n",
      "  inflating: /home/aistudio/房价预测fluid/images/.png  \n"
     ]
    }
   ],
   "source": [
    "#请先运行此代码块获得代码\n",
    "!unzip -o /home/aistudio/data/data760/*.zip -d /home/aistudio/\n",
    "!NEW_NAME=$(find -name *[0-9].ipynb) && NEW_NAME=${NEW_NAME%.*} && NEW_NAME=${NEW_NAME#./} && cp -rf 房价预测fluid/. . && mv fluid_LinearRegression_complete.ipynb ${NEW_NAME}\"_complete.ipynb\""
   ]
  },
  {
   "cell_type": "code",
   "execution_count": 5,
   "metadata": {},
   "outputs": [
    {
     "name": "stdout",
     "output_type": "stream",
     "text": [
      "Looking in indexes: https://pypi.mirrors.ustc.edu.cn/simple/\n",
      "Requirement already satisfied: numpy in /opt/conda/envs/py27-paddle0.11/lib/python2.7/site-packages (1.14.3)\n",
      "\u001b[33mYou are using pip version 18.0, however version 19.0 is available.\n",
      "You should consider upgrading via the 'pip install --upgrade pip' command.\u001b[0m\n"
     ]
    }
   ],
   "source": [
    "!pip install numpy"
   ]
  },
  {
   "cell_type": "markdown",
   "metadata": {
    "collapsed": true
   },
   "source": [
    "# PaddlePaddle实现线性回归\n",
    "\n",
    "欢迎大家来到这次实验！在本次实验中我们将使用PaddlePaddle来搭建一个简单的线性回归模型，并利用这一模型预测你的储蓄（在某地区）可以购买多大面积的房子。并且在学习模型搭建的过程中，了解到机器学习的若干重要概念，掌握一个机器学习预测的基本流程。\n",
    "\n",
    "** 你将学会 **\n",
    "\n",
    "- 机器学习基本概念：假设函数、损失函数、优化算法\n",
    "- 数据归一化处理\n",
    "- 搭建全连接神经网络，实现线性回归\n",
    "\n",
    "在实验开始之前，我们先对机器学习的相关概念进行复习和回顾吧！\n",
    "\n",
    "** 机器学习回顾 **\n",
    "\n",
    "输入训练数据，利用特定的机器学习方法建立估计函数。得到函数后向这一模型输入测试数据，函数有能力对没有见过的数据进行正确估计，这就是机器学习的过程。\n",
    "<img src=\"images/ML_process.png\" style=\"width:300px;height:180px;\">\n",
    "\n",
    "** 线性回归的基本概念 **\n",
    "\n",
    "线性回归是机器学习中最简单也是最重要的模型之一，其模型建立同样遵循上图流程：获取数据、数据预处理、训练模型、应用模型。\n",
    "\n",
    "回归模型可以理解为：存在一个点集，用一条曲线去拟合它分布的过程。如果拟合曲线是一条直线，则称为线性回归。如果是一条二次曲线，则被称为二次回归。线性回归是回归模型中最简单的一种。\n",
    "\n",
    "在线性回归中有几个基本的概念需要掌握：\n",
    "- 假设函数（Hypothesis Function）\n",
    "- 损失函数（Loss Function）\n",
    "- 优化算法（Optimization Algorithm）\n",
    "\n",
    "###### 假设函数：\n",
    "\n",
    "假设函数是指，用数学的方法描述自变量和因变量之间的关系，它们之间可以是一个线性函数或非线性函数。\n",
    "在本次线性回顾模型中，我们的假设函数为 $ \\hat{Y}= aX_1+b $ ，其中，$\\hat{Y}$表示模型的预测结果（预测房价），用来和真实的Y区分。模型要学习的参数即：a,b。\n",
    "\n",
    "###### 损失函数：\n",
    "\n",
    "损失函数是指，用数学的方法衡量假设函数预测结果与真实值之间的误差。这个差距越小预测越准确，而算法的任务就是使这个差距越来越小。\n",
    "\n",
    "建立模型后，我们需要给模型一个优化目标，使得学到的参数能够让预测值$\\hat{Y}$尽可能地接近真实值Y。输入任意一个数据样本的目标值$y_i$和模型给出的预测值$\\hat{Y_i}$，损失函数输出一个非负的实值。这个实值通常用来反映模型误差的大小。\n",
    "\n",
    "对于线性模型来讲，最常用的损失函数就是均方误差（Mean Squared Error， MSE）。\n",
    "$$MSE=\\frac{1}{n}\\sum_{i=1}^{n}(\\hat{Y_i}-Y_i)^2$$\n",
    "即对于一个大小为n的测试集，MSE是n个数据预测结果误差平方的均值。\n",
    "\n",
    "###### 优化算法：\n",
    "\n",
    "在模型训练中优化算法也是至关重要的，它决定了一个模型的精度和运算速度。本章的线性回归实例中主要使用了梯度下降法进行优化。\n",
    "\n",
    "**梯度下降**是深度学习中非常重要的概念，值得庆幸的是它也十分容易理解。损失函数$J(w,b)$可以理解为变量$w$和$b$的函数。观察下图，垂直轴表示损失函数的值，两个水平轴分别表示变量$w$和$b$。实际上，可能是更高维的向量，但是为了方便说明，在这里假设$w$和$b$都是一个实数。算法的最终目标是找到损失函数的最小值。而这个寻找过程就是不断地微调变量$w$和$b$的值，一步一步地试出这个最小值。而试的方法就是沿着梯度方向逐步移动。本例中让图中的圆点表示损失函数的某个值，那么梯度下降就是让圆点沿着曲面下降，直到取到最小值或逼近最小值。\n",
    "\n",
    "因为是凸函数，所以无论初始化在曲面上的哪一点，最终都会收敛到同一点或者相近的点。\n",
    "\n",
    "<img src=\"images/gradient_descent.png\" style=\"width:380px;height:180px;\">\n",
    "\n",
    "\n",
    "现在，让我们正式进入实验吧！\n",
    "\n",
    "# 1 - 引用库\n",
    "\n",
    "首先载入需要用到的库，它们分别是：\n",
    "\n",
    "- numpy：一个python的基本库，用于科学计算\n",
    "- matplotlib.pyplot：用于生成图，在验证模型准确率和展示成本变化趋势时会使用到\n",
    "- paddle.fluid：PaddlePaddle其中一种深度学习框架\n",
    "- pandas:一种基于NumPy的工具，高效处理数据"
   ]
  },
  {
   "cell_type": "code",
   "execution_count": 6,
   "metadata": {},
   "outputs": [
    {
     "name": "stdout",
     "output_type": "stream",
     "text": [
      "In the fluid 1.0,the trainer and inferencer are moving to paddle.fluid.contrib,file=sys.stderr\n"
     ]
    }
   ],
   "source": [
    "import numpy as np\n",
    "import paddle\n",
    "import paddle.fluid as fluid\n",
    "import matplotlib.pyplot as plt\n",
    "import pandas as pd\n",
    "try:\n",
    "    from paddle.fluid.contrib.trainer import *\n",
    "    from paddle.fluid.contrib.inferencer import *\n",
    "except ImportError:\n",
    "    print(\"In the fluid 1.0,the trainer and inferencer are moving to paddle.fluid.contrib,file=sys.stderr\")\n",
    "    from paddle.fluid.trainer import *\n",
    "    from paddle.fluid.inferencer import *\n",
    "%matplotlib inline"
   ]
  },
  {
   "cell_type": "markdown",
   "metadata": {},
   "source": [
    "# 2 - 数据预处理\n",
    "\n",
    "本次数据集使用的是2016年12月份某市某地区的房价分布。为了简化模型，假设影响房价的因素只有房屋面积，因此数据集只有两列，以TXT的形式储存。\n",
    "\n",
    "当真实数据被收集到后，它们往往不能直接使用。例如本次数据集使用了某地区的房价分布，为了简化模型数据只有两维，分别是房屋面积与房屋价格。可以看到房价与房屋面积之间存在一种关系，这种关系究竟是什么，就是本次预测想要得到的结论。可以首先以表格的形式输出数据的前五行看一下"
   ]
  },
  {
   "cell_type": "code",
   "execution_count": 7,
   "metadata": {
    "scrolled": true
   },
   "outputs": [
    {
     "data": {
      "text/html": [
       "<div>\n",
       "<style scoped>\n",
       "    .dataframe tbody tr th:only-of-type {\n",
       "        vertical-align: middle;\n",
       "    }\n",
       "\n",
       "    .dataframe tbody tr th {\n",
       "        vertical-align: top;\n",
       "    }\n",
       "\n",
       "    .dataframe thead th {\n",
       "        text-align: right;\n",
       "    }\n",
       "</style>\n",
       "<table border=\"1\" class=\"dataframe\">\n",
       "  <thead>\n",
       "    <tr style=\"text-align: right;\">\n",
       "      <th></th>\n",
       "      <th>房屋面积</th>\n",
       "      <th>房价</th>\n",
       "    </tr>\n",
       "  </thead>\n",
       "  <tbody>\n",
       "    <tr>\n",
       "      <th>0</th>\n",
       "      <td>98.87</td>\n",
       "      <td>599.0</td>\n",
       "    </tr>\n",
       "    <tr>\n",
       "      <th>1</th>\n",
       "      <td>68.74</td>\n",
       "      <td>450.0</td>\n",
       "    </tr>\n",
       "    <tr>\n",
       "      <th>2</th>\n",
       "      <td>89.24</td>\n",
       "      <td>440.0</td>\n",
       "    </tr>\n",
       "    <tr>\n",
       "      <th>3</th>\n",
       "      <td>129.19</td>\n",
       "      <td>780.0</td>\n",
       "    </tr>\n",
       "    <tr>\n",
       "      <th>4</th>\n",
       "      <td>61.64</td>\n",
       "      <td>450.0</td>\n",
       "    </tr>\n",
       "  </tbody>\n",
       "</table>\n",
       "</div>"
      ],
      "text/plain": [
       "     房屋面积     房价\n",
       "0   98.87  599.0\n",
       "1   68.74  450.0\n",
       "2   89.24  440.0\n",
       "3  129.19  780.0\n",
       "4   61.64  450.0"
      ]
     },
     "execution_count": 7,
     "metadata": {},
     "output_type": "execute_result"
    }
   ],
   "source": [
    "colnames = ['房屋面积']+['房价']\n",
    "print_data = pd.read_csv('./datasets/data.txt',names = colnames)\n",
    "print_data.head()"
   ]
  },
  {
   "cell_type": "markdown",
   "metadata": {},
   "source": [
    "一般拿到一组数据后，第一个要处理的是数据类型不同的问题。如果各维属性中有离散值和连续值，就必须对离散值进行处理。\n",
    "\n",
    "离散值虽然也常使用类似0、1、2这样的数字表示，但是其含义与连续值是不同的，因为这里的差值没有实际意义。例如，我们用0、1、2来分别表示红色、绿色和蓝色的话，我们并不能因此说“蓝色和红色”比“绿色和红色”的距离更远。通常对有d个可能取值的离散属性，我们会将它们转为d个取值为0或1的二值属性或者将每个可能取值映射为一个多维向量。\n",
    "\n",
    "不过就这里而言，数据中没有离散值，就不用考虑这个问题了。\n",
    "\n",
    "** 归一化 **\n",
    "\n",
    "观察一下数据的分布特征，一般而言，如果样本有多个属性，那么各维属性的取值范围差异会很大，这就要用到一个常见的操作-归一化（normalization）了。归一化的目标是把各位属性的取值范围放缩到差不多的区间，例如[-0.5, 0.5]。这里我们使用一种很常见的操作方法：减掉均值，然后除以原取值范围。"
   ]
  },
  {
   "cell_type": "markdown",
   "metadata": {},
   "source": [
    "虽然本次房价预测模型中，输入属性只有房屋面积，不存在取值范围差异问题，但由于归一化的各种优点，我们仍选择对其进行归一化操作。"
   ]
  },
  {
   "cell_type": "markdown",
   "metadata": {},
   "source": [
    "** 练习 **\n",
    "\n",
    "完成下列代码，实现房屋面积的归一化。\n",
    "\n",
    "输出归一化后的房价最大值，判断操作是否正确。"
   ]
  },
  {
   "cell_type": "code",
   "execution_count": 8,
   "metadata": {},
   "outputs": [
    {
     "name": "stdout",
     "output_type": "stream",
     "text": [
      "the raw area : 199.96\n",
      "normalization: 0.6587568635148239\n"
     ]
    }
   ],
   "source": [
    "# coding = utf-8 #\n",
    "global x_raw,train_data,test_data\n",
    "data = np.loadtxt('./datasets/data.txt',delimiter = ',')\n",
    "x_raw = data.T[0].copy() \n",
    "\n",
    "#axis=0,表示按列计算\n",
    "#data.shape[0]表示data中一共有多少列\n",
    "maximums,minimums,avgs = data.max(axis=0),data.min(axis=0),data.sum(axis=0)/data.shape[0]\n",
    "print \"the raw area :\",data[:,0].max(axis = 0)\n",
    "\n",
    "#归一化，data[:,i]表示第i列的元素\n",
    "\n",
    "### START CODE HERE ### (≈ 3 lines of code)\n",
    "feature_num = data.shape[1] \n",
    "for i in xrange(feature_num-1):\n",
    "    data[:,i] = (data[:, i] - avgs[i])/(maximums[i] - minimums[i]) \n",
    "### END CODE HERE ###\n",
    "\n",
    "print 'normalization:',data[:,0].max(axis = 0)\n",
    "    "
   ]
  },
  {
   "cell_type": "markdown",
   "metadata": {},
   "source": [
    "期望输出：normalization: 0.658756863515"
   ]
  },
  {
   "cell_type": "markdown",
   "metadata": {},
   "source": [
    "基本上所有的数据在拿到后都必须进行归一化，至少有以下3条原因：\n",
    "\n",
    "1.过大或过小的数值范围会导致计算时的浮点上溢或下溢。\n",
    "\n",
    "2.不同的数值范围会导致不同属性对模型的重要性不同（至少在训练的初始阶段如此），而这个隐含的假设常常是不合理的。这会对优化的过程造成困难，使训练时间大大加长。\n",
    "\n",
    "3.很多的机器学习技巧/模型（例如L1，L2正则项，向量空间模型-Vector Space Model）都基于这样的假设：所有的属性取值都差不多是以0为均值且取值范围相近的。\n",
    "\n",
    "** 数据集分割 **\n",
    "\n",
    "将原始数据处理为可用数据后，为了评估模型的好坏，我们将数据分成两份：训练集和测试集。\n",
    "- 训练集数据用于调整模型的参数，即进行模型的训练，模型在这份数据集上的误差被称为训练误差；\n",
    "- 测试集数据被用来测试，模型在这份数据集上的误差被称为测试误差。\n",
    "\n",
    "我们训练模型的目的是为了通过从训练数据中找到规律来预测未知的新数据，所以测试误差是更能反映模型表现的指标。分割数据的比例要考虑到两个因素：更多的训练数据会降低参数估计的方差，从而得到更可信的模型；而更多的测试数据会降低测试误差的方差，从而得到更可信的测试误差。我们这个例子中设置的分割比例为8:2。"
   ]
  },
  {
   "cell_type": "markdown",
   "metadata": {},
   "source": [
    "** 练习 **\n",
    "\n",
    "补全下列代码，完成训练集与测试集的分割。输出数据大小，验证分割是否正确。\n",
    "\n",
    "- 提示：\n",
    "\n",
    "    A[:x] 表示取A中的前x个元素\n",
    "    \n",
    "    A[x:]表示从第x+1个元素开始取到最后一个元素"
   ]
  },
  {
   "cell_type": "code",
   "execution_count": 9,
   "metadata": {
    "scrolled": true
   },
   "outputs": [
    {
     "name": "stdout",
     "output_type": "stream",
     "text": [
      "870\n",
      "696\n"
     ]
    }
   ],
   "source": [
    "ratio = 0.8\n",
    "offset = int(data.shape[0]*ratio)\n",
    "\n",
    "### START CODE HERE ### (≈ 2 lines of code)\n",
    "train_data = data[:offset].copy()   #\n",
    "test_data = data[offset:].copy()\n",
    "### END CODE HERE ###\n",
    "\n",
    "print(len(data))\n",
    "print(len(train_data))"
   ]
  },
  {
   "cell_type": "markdown",
   "metadata": {},
   "source": [
    "期望输出：\n",
    "\n",
    "870\n",
    "\n",
    "696"
   ]
  },
  {
   "cell_type": "markdown",
   "metadata": {},
   "source": [
    "# 3 - 定义reader\n",
    "\n",
    "构造read_data()函数，来读取训练数据集train_set或者测试数据集test_set。它的具体实现是在read_data()函数内部构造一个reader()，使用yield关键字来让reader()成为一个Generator（生成器），注意，yield关键字的作用和使用方法类似return关键字，不同之处在于yield关键字可以构造生成器（Generator）。虽然我们可以直接创建一个包含所有数据的列表，但是由于内存限制，我们不可能创建一个无限大的或者巨大的列表，并且很多时候在创建了一个百万数量级别的列表之后，我们却只需要用到开头的几个或几十个数据，这样造成了极大的浪费，而生成器的工作方式是在每次循环时计算下一个值，不断推算出后续的元素，不会创建完整的数据集列表，从而节约了内存使用。"
   ]
  },
  {
   "cell_type": "code",
   "execution_count": 10,
   "metadata": {},
   "outputs": [],
   "source": [
    "def read_data(data_set):\n",
    "    \"\"\"\n",
    "    一个reader\n",
    "    Args：\n",
    "        data_set -- 要获取的数据集\n",
    "    Return：\n",
    "        reader -- 用于获取训练集及其标签的生成器generator\n",
    "    \"\"\"\n",
    "    def reader():\n",
    "        \"\"\"\n",
    "        一个reader\n",
    "        Args：\n",
    "        Return：\n",
    "            data[:-1],data[-1:] --使用yield返回生成器\n",
    "                data[:-1]表示前n-1个元素，也就是训练数据，\n",
    "                data[-1:]表示最后一个元素，也就是对应的标签\n",
    "        \"\"\"\n",
    "        ### START CODE HERE ### (≈ 2 lines of code)\n",
    "\n",
    "        \n",
    "        for value in data_set:\n",
    "            yield value\n",
    "        ### END CODE HERE ###\n",
    "    return reader"
   ]
  },
  {
   "cell_type": "markdown",
   "metadata": {},
   "source": [
    "获取训练数据集和测试数据集"
   ]
  },
  {
   "cell_type": "code",
   "execution_count": 11,
   "metadata": {},
   "outputs": [],
   "source": [
    "def train():\n",
    "    \"\"\"\n",
    "    定义一个reader来获取训练数据集及其标签\n",
    "    Args：\n",
    "    Return：\n",
    "        read_data -- 用于获取训练数据集及其标签的reader\n",
    "    \"\"\"\n",
    "    global train_data\n",
    "    return read_data(train_data)\n",
    "\n",
    "def test():\n",
    "    global test_data\n",
    "    return read_data(test_data)"
   ]
  },
  {
   "cell_type": "markdown",
   "metadata": {},
   "source": [
    "测试reader："
   ]
  },
  {
   "cell_type": "code",
   "execution_count": 12,
   "metadata": {
    "scrolled": true
   },
   "outputs": [
    {
     "name": "stdout",
     "output_type": "stream",
     "text": [
      "test_array for read_data:\n",
      "[10, 100]\n",
      "[20, 200]\n"
     ]
    }
   ],
   "source": [
    "test_array = ([10,100],[20,200])\n",
    "print(\"test_array for read_data:\")\n",
    "for value in read_data(test_array)():     # attention!\n",
    "    print(value)"
   ]
  },
  {
   "cell_type": "markdown",
   "metadata": {},
   "source": [
    "# 4 - 训练过程\n",
    "\n",
    "\n",
    "完成了数据的预处理工作并构造了read_data()来读取数据，接下来将进入模型的训练过程，使用PaddlePaddle来定义构造可训练的线性回归模型，关键步骤如下：\n",
    "\n",
    "- 初始化\n",
    "\n",
    "- 配置网络结构和设置参数\n",
    "    - 配置网络结构\n",
    "    - 定义损失函数cost\n",
    "    - 定义program\n",
    "    - 定义优化器optimizer\n",
    "\n",
    "- 模型训练\n",
    "\n",
    "- 预测\n",
    "\n",
    "- 绘制拟合图像\n",
    "\n",
    "** （1）定义运算场所 **\n",
    "\n",
    "首先进行最基本的运算场所定义，在 fluid 中使用 place = fluid.CUDAPlace(0) if use_cuda else fluid.CPUPlace() 来进行初始化：\n",
    "\n",
    "- place 表示fluid program的执行设备，常见的有 fluid.CUDAPlace(0) 和 fluid.CPUPlace()\n",
    "- use_cuda = False 表示不使用 GPU 进行加速训练"
   ]
  },
  {
   "cell_type": "code",
   "execution_count": 13,
   "metadata": {},
   "outputs": [],
   "source": [
    "#使用CPU训练\n",
    "use_cuda = False\n",
    "place = fluid.CUDAPlace(0) if use_cuda else fluid.CPUPlace()"
   ]
  },
  {
   "cell_type": "markdown",
   "metadata": {},
   "source": [
    "** （2）配置网络结构和设置参数 **\n",
    "\n",
    "** 配置网络结构 **\n",
    "\n",
    "\n",
    "线性回归的模型其实就是一个采用线性激活函数（linear activation）的全连接层（fully-connected layer，fc_layer），因此在Peddlepeddle中利用全连接层模型构造线性回归，这样一个全连接层就可以看做是一个简单的神经网络，只包含输入层和输出层即可。本次的模型由于只有一个影响参数，因此输入只含一个$X_0$。\n",
    "\n",
    "<img src=\"images/FC.png\" style=\"width:380px;height:180px;\">\n",
    "\n",
    "接下来就让我们利用PaddlePaddle提供的接口，搭建我们自己的网络吧！\n",
    "\n",
    "** 输入层 **\n",
    "\n",
    "我们可以用x = fluid.layers.data(name='x', shape=[1], dtype='float32')来表示数据的一个输入层，其中名称为\"x\"，数据类型为一维向量。\n",
    "\n",
    "** 输出层 **\n",
    "\n",
    "用y_predict = fluid.layers.fc(input=x, size=1, act=None)来表示输出层：其中paddle.layer.fc表示全连接层，input=x表示该层出入数据为x，size=1表示该层有一个神经元，act=None表示激活函数为线性激活函数。\n",
    "\n",
    "\n",
    "** 标签层 **\n",
    "\n",
    "用y = fluid.layers.data(name='y', shape=[1], dtype='float32')来表示标签数据，名称为y，数据类型为一维向量\n",
    "\n",
    "** 练习 ** 完成下面代码"
   ]
  },
  {
   "cell_type": "code",
   "execution_count": 14,
   "metadata": {},
   "outputs": [],
   "source": [
    "# 输入层，fluid.layers.data表示数据层,name=’x’：名称为x,输出类型为tensor\n",
    "# shape=[1]:数据为1维向量\n",
    "# dtype='float32'：数据类型为float32\n",
    "\n",
    "### START CODE HERE ### (≈ 1 lines of code)\n",
    "x = None\n",
    "### END CODE HERE ###\n",
    "\n",
    "\n",
    "# 标签数据，fluid.layers.data表示数据层,name=’y’：名称为y,输出类型为tensor\n",
    "# shape=[1]:数据为1维向量\n",
    "\n",
    "### START CODE HERE ### (≈ 1 lines of code)\n",
    "y = None\n",
    "### END CODE HERE ###\n",
    "\n",
    "\n",
    "# 输出层，fluid.layers.fc表示全连接层，input=x: 该层输入数据为x\n",
    "# size=1：神经元个数，act=None：激活函数为线性函数\n",
    "\n",
    "### START CODE HERE ### (≈ 1 lines of code)\n",
    "y_predict = None\n",
    "### END CODE HERE ###\n"
   ]
  },
  {
   "cell_type": "markdown",
   "metadata": {},
   "source": [
    "** 定义损失函数 **\n",
    "\n",
    "本次使用的是均方差损失函数，可以调用fluid.layers.square_error_cost(input= ,laybel= )实现方差计算，通过fluid.layers.mean(loss)对方差求平均。将输入定义为房价预测值，label定义为标签数据，计算损失值。\n",
    "\n",
    "** 练习 ** 完成下面代码\n"
   ]
  },
  {
   "cell_type": "code",
   "execution_count": 15,
   "metadata": {},
   "outputs": [],
   "source": [
    "# 定义成本函数为均方差损失函数\n",
    "\n",
    "### START CODE HERE ### (≈ 2 lines of code)\n",
    "loss = None\n",
    "avg_loss = None\n",
    "### END CODE HERE ###"
   ]
  },
  {
   "cell_type": "markdown",
   "metadata": {},
   "source": [
    "** 封装训练参数 **\n",
    "\n",
    "将设计完成的网络参数写入train_program()函数，便于训练时调用"
   ]
  },
  {
   "cell_type": "code",
   "execution_count": 16,
   "metadata": {},
   "outputs": [],
   "source": [
    "def train_program():\n",
    "    ### START CODE HERE ### (≈ 5 lines of code)\n",
    "    # 输入层/输出层/标签\n",
    "    x = fluid.layers.data(name='x', shape=[1], dtype='float32')     # 数据为1维，数据类型float32\n",
    "    y_predict = fluid.layers.fc(input=x, size=1, act=None)    # 输入数据x,size=1 1个神经元，线性激活函数\n",
    "    y = fluid.layers.data(name='y', shape=[1],dtype='float32')\n",
    "    # 定义损失函数\n",
    "    loss = fluid.layers.square_error_cost(input=y_predict, label=y)\n",
    "    avgs_loss = fluid.layers.mean(loss)\n",
    "    ### END CODE HERE ###\n",
    "\n",
    "    return avgs_loss"
   ]
  },
  {
   "cell_type": "markdown",
   "metadata": {},
   "source": [
    "** 优化方法 **\n",
    "\n",
    "损失函数定义确定后，需要定义参数优化方法。为了改善模型的训练速度以及效果，学术界先后提出了很多优化算法，包括： Momentum、RMSProp、Adam 等，已经被封装在fluid内部，读者可直接调用。本次可以用sgd_optimizer = fluid.optimizer.SGD(learning_rate= )使用随机梯度下降的方法优化，其中learning_rate可自己尝试修改。"
   ]
  },
  {
   "cell_type": "markdown",
   "metadata": {},
   "source": [
    "** 练习 **\n",
    "\n",
    "请自行设置学习率的值，观察cost函数的变化。\n",
    "\n",
    "- 学习率参数为：learning_rate"
   ]
  },
  {
   "cell_type": "code",
   "execution_count": 17,
   "metadata": {},
   "outputs": [],
   "source": [
    "# 创建optimizer，更多优化算子可以参考 fluid.optimizer()\n",
    "def optimizer_program():\n",
    "    ### START CODE HERE ### (≈ 1 lines of code)\n",
    "    sgd_optimizer = fluid.optimizer.SGD(learning_rate=0.02)\n",
    "    return sgd_optimizer\n",
    "    ### END CODE HERE ###\n"
   ]
  },
  {
   "cell_type": "markdown",
   "metadata": {},
   "source": [
    "** 其它配置 **\n",
    "\n",
    "feed_order=['x', 'y']是数据层名称和数组索引的映射，用于定义数据的读取顺序。params_dirname用于定义模型保存路径。\n",
    "\n",
    "最后定义事件处理器event_handler_plot(event)用于打印训练进程，在fulid中有两种形式的事件处理器，分别是文字形式与图像形式。本次使用的是图像形式的处理器，当训练开始时调用该函数，可以得到loss变化图像，便于使用者进行参数调整。"
   ]
  },
  {
   "cell_type": "code",
   "execution_count": 18,
   "metadata": {},
   "outputs": [],
   "source": [
    "# 数据层和数组索引映射，用于trainer训练时喂数据\n",
    "feed_order=['x', 'y']\n",
    "# 保存模型\n",
    "params_dirname = \"easy_fit_a_line.inference.model\"\n",
    "\n",
    "# Plot data\n",
    "from paddle.v2.plot import Ploter\n",
    "train_title = \"Train cost\"\n",
    "test_title = \"Test cost\"\n",
    "plot_cost = Ploter(train_title, test_title)\n",
    "\n",
    "step = 0\n",
    "\n",
    "# 事件处理\n",
    "def event_handler_plot(event):\n",
    "    global step\n",
    "    if isinstance(event, fluid.EndStepEvent):\n",
    "        if event.step % 10 == 0:\n",
    "            plot_cost.append(train_title, step, event.metrics[0])\n",
    "            plot_cost.plot()\n",
    "        if event.step % 100 == 0: # 每10个batch,记录cost\n",
    "            test_metrics = trainer.test(\n",
    "            reader=test_reader, feed_order=feed_order)\n",
    "\n",
    "            plot_cost.append(test_title, step, test_metrics[0])\n",
    "            plot_cost.plot()\n",
    "\n",
    "            if test_metrics[0] < 10.0:\n",
    "                # 如果准确率达到阈值，则停止训练\n",
    "                print('loss is less than 10.0, stop')\n",
    "                trainer.stop()\n",
    "\n",
    "        # 将参数存储，用于预测使用\n",
    "        if params_dirname is not None:\n",
    "            trainer.save_params(params_dirname)\n",
    "\n",
    "    step += 1"
   ]
  },
  {
   "cell_type": "markdown",
   "metadata": {},
   "source": [
    "** （3）训练模型 **\n",
    "\n",
    "上述内容进行了模型初始化、网络结构的配置并创建了训练函数、硬件位置、优化方法，接下来利用上述配置进行模型训练。\n",
    "\n",
    "\n",
    "首先定义执行器，fulid使用了一个C++类Executor用于运行一个程序，Executor类似一个解释器，Fluid将会使用这样一个解析器来训练和测试模型。\n",
    "一个随机梯度下降trainer，配置三个参数cost、parameters、update_equation，它们分别表示损失函数、参数和更新公式。\n",
    "\n",
    "再利用trainer.train()即可开始真正的模型训练，我们可以设置参数如下："
   ]
  },
  {
   "cell_type": "markdown",
   "metadata": {},
   "source": [
    "** 定义执行器(参数随机初始化) **\n",
    "\n",
    "用户配置完模型后，参数初始化操作会被写入到fluid.default_startup_program() 中。使用 fluid.Executor() 运行 这一程序，即可在全局 fluid.global_scope() 中随机初始化参数。"
   ]
  },
  {
   "cell_type": "code",
   "execution_count": 19,
   "metadata": {},
   "outputs": [
    {
     "data": {
      "text/plain": [
       "[]"
      ]
     },
     "execution_count": 19,
     "metadata": {},
     "output_type": "execute_result"
    }
   ],
   "source": [
    "# 创建执行器，palce在程序初始化时设定\n",
    "exe = fluid.Executor(place)\n",
    "# 初始化执行器\n",
    "exe.run(fluid.default_startup_program())"
   ]
  },
  {
   "cell_type": "markdown",
   "metadata": {},
   "source": [
    "** 设置训练参数 **\n",
    "\n",
    "同学们可以试着调整一下参数值，看会有什么变化。"
   ]
  },
  {
   "cell_type": "code",
   "execution_count": 20,
   "metadata": {},
   "outputs": [],
   "source": [
    "BATCH_SIZE = 20\n",
    "\n",
    "# 设置训练reader\n",
    "train_reader = paddle.batch(\n",
    "paddle.reader.shuffle(\n",
    "    train(), buf_size=500),\n",
    "    batch_size=BATCH_SIZE)\n",
    "\n",
    "#设置测试reader\n",
    "test_reader = paddle.batch(\n",
    "paddle.reader.shuffle(\n",
    "    test(), buf_size=500),\n",
    "batch_size=BATCH_SIZE)"
   ]
  },
  {
   "cell_type": "markdown",
   "metadata": {},
   "source": [
    "** 创建训练器 **\n",
    "\n",
    "训练器会读入一个配置好的训练程序和一些必要的其他参数"
   ]
  },
  {
   "cell_type": "code",
   "execution_count": 21,
   "metadata": {},
   "outputs": [],
   "source": [
    "trainer = fluid.Trainer(\n",
    "    train_func=train_program,\n",
    "    place=place,\n",
    "    optimizer_func=optimizer_program)"
   ]
  },
  {
   "cell_type": "markdown",
   "metadata": {},
   "source": [
    "用户可以打印出自己设置的网络参数，以查看网络结构是否符合期待。"
   ]
  },
  {
   "cell_type": "code",
   "execution_count": 22,
   "metadata": {
    "scrolled": true
   },
   "outputs": [
    {
     "name": "stdout",
     "output_type": "stream",
     "text": [
      "blocks {\n",
      "  idx: 0\n",
      "  parent_idx: -1\n",
      "}\n",
      "\n"
     ]
    }
   ],
   "source": [
    "print(fluid.default_main_program().to_string(True))"
   ]
  },
  {
   "cell_type": "markdown",
   "metadata": {},
   "source": [
    "** 开始训练 **\n",
    "\n",
    "我们现在可以通过调用trainer.train()来开始训练了，通过观察损失函数图像看看自己的模型是不是完美了呢！\n",
    "\n",
    "尝试调整num_epochs观察损失函数的变化吧（可以先尝试100）"
   ]
  },
  {
   "cell_type": "markdown",
   "metadata": {},
   "source": [
    "关于参数的解释如下：\n",
    "\n",
    "- paddle.reader.shuffle(train(), buf_size=500)表示trainer从train()这个reader中读取了buf_size=500大小的数据并打乱顺序\n",
    "- paddle.batch(reader(), batch_size=BATCH_SIZE)表示从打乱的数据中再取出BATCH_SIZE=20大小的数据进行一次迭代训练\n",
    "- 参数feed_order用到了之前定义的feed_order索引，将数据层x和y按顺序输入trainer，也就是数据的来源。\n",
    "- 参数event_handler是事件管理机制，读者可以自定义event_handler，根据事件信息作相应的操作。\n",
    "- 参数num_epochs=100表示迭代训练100次后停止训练。"
   ]
  },
  {
   "cell_type": "code",
   "execution_count": 23,
   "metadata": {},
   "outputs": [
    {
     "data": {
      "image/png": "[encoded data removed]",
      "text/plain": [
       "<Figure size 432x288 with 1 Axes>"
      ]
     },
     "metadata": {},
     "output_type": "display_data"
    },
    {
     "data": {
      "text/plain": [
       "<Figure size 432x288 with 0 Axes>"
      ]
     },
     "metadata": {},
     "output_type": "display_data"
    }
   ],
   "source": [
    "trainer.train(\n",
    "    reader=train_reader,\n",
    "    ### START CODE HERE ### (≈ 1 lines of code)\n",
    "    num_epochs=100,\n",
    "    ### END CODE HERE ###\n",
    "    event_handler=event_handler_plot,\n",
    "    feed_order=feed_order,)"
   ]
  },
  {
   "cell_type": "markdown",
   "metadata": {},
   "source": [
    "得到的cost函数变化图像大致应是一个收敛的结果：\n",
    "<img src='images/result.png' style = \"width:400px;height:300px;\">"
   ]
  },
  {
   "cell_type": "markdown",
   "metadata": {},
   "source": [
    "# 4 - 预测\n",
    "\n",
    "** （1）设定预测程序 **\n",
    "\n",
    "类似于trainer.train，预测器需要一个预测程序来做预测。我们可以稍加修改我们的训练程序来把预测值包含进来。"
   ]
  },
  {
   "cell_type": "code",
   "execution_count": 24,
   "metadata": {},
   "outputs": [],
   "source": [
    "# 设置预测程序\n",
    "def inference_program():\n",
    "    x = fluid.layers.data(name='x', shape=[1], dtype='float32')\n",
    "    y_predict = fluid.layers.fc(input=x, size=1, act=None)\n",
    "    return y_predict"
   ]
  },
  {
   "cell_type": "markdown",
   "metadata": {},
   "source": [
    "** (2)预测 **\n",
    "\n",
    "预测器会从params_dirname中读取已经训练好的模型，来对从未遇见过的数据进行预测。\n",
    "\n",
    "- tensor_x:生成batch_size个[0,1]区间的随机数，以tensor的格式储存\n",
    "- results：预测对应tensor_x面积的房价结果\n",
    "- raw_x:由于数据处理时我们做了归一化操作，为了更直观的判断预测是否准确，将数据进行反归一化，得到随机数对应的原始数据。"
   ]
  },
  {
   "cell_type": "code",
   "execution_count": 25,
   "metadata": {},
   "outputs": [
    {
     "name": "stdout",
     "output_type": "stream",
     "text": [
      "('the area is:', array([[153.69696],\n",
      "       [142.05215]], dtype=float32))\n",
      "('infer results: ', array([[1028.572  ],\n",
      "       [ 945.88104]], dtype=float32))\n"
     ]
    }
   ],
   "source": [
    "params_dirname = \"easy_fit_a_line.inference.model\"\n",
    "use_cuda = False\n",
    "place = fluid.CUDAPlace(0) if use_cuda else fluid.CPUPlace()\n",
    "inferencer = Inferencer(\n",
    "infer_func=inference_program, param_path=params_dirname, place=place)\n",
    "\n",
    "batch_size = 2\n",
    "tensor_x = np.random.uniform(0, 1, [batch_size, 1]).astype(\"float32\")\n",
    "\n",
    "results = inferencer.infer({'x': tensor_x})\n",
    "raw_x = tensor_x*(maximums[i]-minimums[i])+avgs[i]\n",
    "print(\"the area is:\",raw_x)\n",
    "print(\"infer results: \", results[0])"
   ]
  },
  {
   "cell_type": "markdown",
   "metadata": {},
   "source": [
    "此处应得到一组预测结果：\n",
    "\n",
    "('the area is:', array([[####],\n",
    "\n",
    "       [####]], dtype=float32))\n",
    "       \n",
    "('infer results: ', array([[####],\n",
    "\n",
    "       [####]], dtype=float32))\n"
   ]
  },
  {
   "cell_type": "markdown",
   "metadata": {},
   "source": [
    "** 练习 **\n",
    "\n",
    "根据线性模型的原理，补全输出公式，计算a和b的值\n",
    "\n",
    "    - 提示：已知两点求直线方程\n",
    "    - 注意：results和raw_x的维度\n"
   ]
  },
  {
   "cell_type": "code",
   "execution_count": 26,
   "metadata": {},
   "outputs": [
    {
     "name": "stdout",
     "output_type": "stream",
     "text": [
      "(array([7.1011043], dtype=float32), array([-62.84607], dtype=float32))\n"
     ]
    }
   ],
   "source": [
    "### START CODE HERE ### (≈ 2 lines of code)\n",
    "\n",
    "a = (results[0][1]-results[0][0])/(raw_x[1]-raw_x[0])\n",
    "b = results[0][0] - a*raw_x[0]\n",
    "\n",
    "### END CODE HERE ###\n",
    "print(a,b)"
   ]
  },
  {
   "cell_type": "markdown",
   "metadata": {},
   "source": [
    "预测结果应为：a=6.7,b=-24.42(每次训练结果取随机数，因此得到的结果可能会有一点点偏差，但大致应在这个范围之间）,因此本次模型得到的房屋面积与房价之间的拟合函数为$y=6.7x-24.42$。其中y为预测的房屋价格，x为房屋面积，根据这个公式可以推断：如果有500万的预算，想在该地区购房，房屋面积大概为$\\frac{500-(-24.42)}{6.7}=78(m^2)$。"
   ]
  },
  {
   "cell_type": "markdown",
   "metadata": {},
   "source": [
    "** （5）绘制拟合图像  **\n",
    "\n",
    "通过训练，本次线性回归模型输出了一条拟合的直线，想要直观的判断模型好坏可将拟合直线与数据的图像绘制出来。\n",
    "\n",
    "**练习**\n",
    "\n",
    "补全下列代码，绘制出你的预测图像（a和b的值应是你经过网络训练出来的结果）。"
   ]
  },
  {
   "cell_type": "code",
   "execution_count": 27,
   "metadata": {},
   "outputs": [
    {
     "data": {
      "image/png": "[encoded data removed]",
      "text/plain": [
       "<Figure size 432x288 with 1 Axes>"
      ]
     },
     "metadata": {},
     "output_type": "display_data"
    }
   ],
   "source": [
    "import numpy as np\n",
    "import matplotlib.pyplot as plt\n",
    "\n",
    "def plot_data(data):\n",
    "    x = data[:,0]\n",
    "    y = data[:,1]\n",
    "    y_predict = x*a + b\n",
    "    plt.scatter(x,y,marker='.',c='r',label='True')\n",
    "    plt.title('House Price Distributions')\n",
    "    plt.xlabel('House Area ')\n",
    "    plt.ylabel('House Price ')\n",
    "    plt.xlim(0,250)\n",
    "    plt.ylim(0,2500)\n",
    "    predict = plt.plot(x,y_predict,label='Predict')\n",
    "    plt.legend(loc='upper left')\n",
    "    plt.savefig('result1.png')\n",
    "    plt.show()\n",
    "\n",
    "### START CODE HERE ### (≈ 1 lines of code)    \n",
    "    #读取数据#\n",
    "data = np.loadtxt('./datasets/data.txt',delimiter = ',')\n",
    "### END CODE HERE ###\n",
    "plot_data(data)\n"
   ]
  },
  {
   "cell_type": "markdown",
   "metadata": {},
   "source": [
    "从输出结果图可以看出，预测数据落在直线上，通过观察可以清楚地看到真实数据大部分散布在预测数据周围，说明预测结果是比较可靠的。\n",
    "\n",
    "你得到的预测图，应与下图相似：<img src='images/plt.png' style = \"width:400px;height:300px;\">"
   ]
  },
  {
   "cell_type": "markdown",
   "metadata": {},
   "source": [
    "# 5 - 总结\n",
    "\n",
    "通过这个练习我们应该记住：\n",
    "\n",
    "1. 机器学习的典型过程：\n",
    "    \n",
    "    - 获取数据\n",
    "    \n",
    "    - 数据预处理\n",
    "    \n",
    "    - 训练模型\n",
    "    \n",
    "    - 应用模型\n",
    "\n",
    "2. fluid训练模型的基本步骤: \n",
    "\n",
    "    - 配置网络结构：\n",
    "    \n",
    "    - 定义成本函数avg_cost\n",
    "    \n",
    "    - 定义优化器optimizer\n",
    "    \n",
    "    - 获取训练数据\n",
    "    \n",
    "    - 定义运算场所(place)和执行器(exe)\n",
    "    \n",
    "    - 提供数据(feeder)\n",
    "\n",
    "    - 执行训练(exe.run)\n",
    "\n",
    "    - 预测infer()并输出拟合图像\n",
    "\n",
    "3. 练习中的许多参数可以作调整，例如修改学习率会对模型结果产生很大影响，大家可以在本练习或者后面的练习中多做些尝试。\n",
    "\n",
    "\n",
    "至此线性回归模型的训练工作完成，希望通过本次课程的学习，读者可以利用提供的代码完成一个简单的房价预测模型。通过这一过程，初步了解PaddlePaddle这一易学易用的分布式平台。\n",
    "\n",
    "本节课作为PaddlePaddle的快速入门章节，希望可以开启您的下一步深度学习之门。"
   ]
  }
 ],
 "metadata": {
  "kernelspec": {
   "display_name": "Python2.7",
   "language": "python",
   "name": "paddle0.12"
  },
  "language_info": {
   "codemirror_mode": {
    "name": "ipython",
    "version": 2
   },
   "file_extension": ".py",
   "mimetype": "text/x-python",
   "name": "python",
   "nbconvert_exporter": "python",
   "pygments_lexer": "ipython2",
   "version": "2.7.15"
  }
 },
 "nbformat": 4,
 "nbformat_minor": 2
}
